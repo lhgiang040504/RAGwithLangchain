{
 "cells": [
  {
   "cell_type": "code",
   "execution_count": 16,
   "id": "f80b302d-c586-4718-8329-273ba5288737",
   "metadata": {},
   "outputs": [],
   "source": [
    "import os\n",
    "import wget\n",
    "import re"
   ]
  },
  {
   "cell_type": "code",
   "execution_count": 17,
   "id": "73587872-64ba-46a5-a01d-dbe3761fcae1",
   "metadata": {},
   "outputs": [],
   "source": [
    "file_links = [\n",
    "    {\n",
    "        \"title\": \"Attention Is All You Need\",\n",
    "        \"url\": \"https://arxiv.org/pdf/1706.03762\",\n",
    "    },\n",
    "    {\n",
    "        \"title\": \"BERT: Pre-training of Deep Bidirectional Transformers for Language Understanding\",\n",
    "        \"url\": \"https://arxiv.org/pdf/1810.04805\",\n",
    "    },\n",
    "    {\n",
    "        \"title\": \"Chain-of-Thought Prompting Elicits Reasoning in Large Language Models\",\n",
    "        \"url\": \"https://arxiv.org/pdf/2201.11903\",\n",
    "    },\n",
    "    {\n",
    "        \"title\": \"Denoising Diffusion Probabilistic Models\",\n",
    "        \"url\": \"https://arxiv.org/pdf/2006.11239\",\n",
    "    },\n",
    "    {\n",
    "        \"title\": \"Instruction Tuning for Large Language Models: A Survey\",\n",
    "        \"url\": \"https://arxiv.org/pdf/2308.10792\",\n",
    "    },\n",
    "    {\n",
    "        \"title\": \"Llama 2: Open Foundation and Fine-Tuned Chat Models\",\n",
    "        \"url\": \"https://arxiv.org/pdf/2307.09288\",\n",
    "    },\n",
    "]"
   ]
  },
  {
   "cell_type": "code",
   "execution_count": 18,
   "id": "df5084ca-6939-4556-b872-e7052dcce059",
   "metadata": {},
   "outputs": [],
   "source": [
    "def sanitize_filename(title):\n",
    "    return re.sub(r'[<>:\"/\\\\|?*]', '_', title)"
   ]
  },
  {
   "cell_type": "code",
   "execution_count": 19,
   "id": "915cfb10-a706-43e8-a99c-2ac746d03faa",
   "metadata": {},
   "outputs": [],
   "source": [
    "def is_exist(file_link):\n",
    "    return os.path.exists(f\"./generative_ai/{sanitize_filename(file_link['title'])}.pdf\")"
   ]
  },
  {
   "cell_type": "code",
   "execution_count": 20,
   "id": "2b16613e-3a1a-4d5e-8491-1dc74f5fa736",
   "metadata": {},
   "outputs": [
    {
     "name": "stdout",
     "output_type": "stream",
     "text": [
      "100% [........................................................................] 13661300 / 13661300"
     ]
    }
   ],
   "source": [
    "for file_link in file_links:\n",
    "    if not is_exist(file_link):\n",
    "        wget.download(file_link['url'], out=f\"./generative_ai/{sanitize_filename(file_link['title'])}.pdf\")"
   ]
  },
  {
   "cell_type": "code",
   "execution_count": null,
   "id": "10f33a4b-f989-483c-9c97-37750bdf4342",
   "metadata": {},
   "outputs": [],
   "source": []
  }
 ],
 "metadata": {
  "kernelspec": {
   "display_name": "Python 3 (ipykernel)",
   "language": "python",
   "name": "python3"
  },
  "language_info": {
   "codemirror_mode": {
    "name": "ipython",
    "version": 3
   },
   "file_extension": ".py",
   "mimetype": "text/x-python",
   "name": "python",
   "nbconvert_exporter": "python",
   "pygments_lexer": "ipython3",
   "version": "3.10.15"
  }
 },
 "nbformat": 4,
 "nbformat_minor": 5
}
